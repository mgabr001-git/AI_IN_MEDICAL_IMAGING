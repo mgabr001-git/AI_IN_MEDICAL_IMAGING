{
 "cells": [
  {
   "cell_type": "markdown",
   "id": "white-chocolate",
   "metadata": {},
   "source": [
    "## Introduction\n",
    "In this notebook we will create a custom DataSet which will load and return an X-Ray image together with the location of the heart"
   ]
  },
  {
   "cell_type": "markdown",
   "id": "unnecessary-limit",
   "metadata": {},
   "source": [
    "## Imports:\n",
    "\n",
    "* Path for easy path handling\n",
    "* torch for dataset creation\n",
    "* numpy for loading the images\n",
    "* pandas for loading the csv file containing the labels\n",
    "* imgaug to set a random seed for augmentations\n",
    "* BoundingBox from imgaug to automatically handle the coordinates when augmenting the image\n",
    "\n"
   ]
  },
  {
   "cell_type": "code",
   "execution_count": null,
   "id": "accredited-florence",
   "metadata": {},
   "outputs": [],
   "source": [
    "from pathlib import Path\n",
    "import torch\n",
    "import numpy as np\n",
    "import pandas as pd\n",
    "# import imgaug\n",
    "# from imgaug.augmentables.bbs import BoundingBox\n"
   ]
  },
  {
   "cell_type": "markdown",
   "id": "coral-awareness",
   "metadata": {},
   "source": [
    "## DataSet Creation\n",
    "Now we define the torch dataset!\n",
    "We need to define a __ len __ function which returns the length of the dataset and a __ getitem __ function which returns the image and corresponding bounding box.\n",
    "\n",
    "Additionally we apply data augmentation and normalization.\n",
    "\n",
    "**Important**: Augment bounding box together with image!<br />\n",
    "You can use *BoundingBox(x1, y1, x2, y2) for that*.<br />\n",
    "Next you call *self.augment(image=img, bounding_boxes=bb)* which returns the augmented image and bounding boxes<br />\n",
    "Finally you extract the coordinates from the augmented bbox coordinates. Note that it is a 2D array.\n",
    "```python\n",
    "bb = BoundingBox(x1=bbox[0], y1=bbox[1], x2=bbox[2], y2=bbox[3])\n",
    "img, aug_bbox  = self.augment(image=img, bounding_boxes=bb)\n",
    "bbox = aug_bbox[0][0], aug_bbox[0][1], aug_bbox[1][0], aug_bbox[1][1]\n",
    "```"
   ]
  },
  {
   "cell_type": "code",
   "execution_count": null,
   "id": "universal-ministry",
   "metadata": {},
   "outputs": [],
   "source": [
    "class CardiacDataset(torch.utils.data.Dataset):\n",
    "\n",
    "    def __init__(self, path_to_labels_csv, patients, root_path, augs):\n",
    "        \n",
    "        self.labels = pd.read_csv(path_to_labels_csv)\n",
    "        \n",
    "        self.patients = np.load(patients)\n",
    "        self.root_path = Path(root_path)\n",
    "        self.augment = augs\n",
    "        \n",
    "    def  __len__(self):\n",
    "        \"\"\"\n",
    "        Returns the length of the dataset\n",
    "        \"\"\"\n",
    "        return len(self.patients)\n",
    "        \n",
    "    def __getitem__(self, idx):\n",
    "        \"\"\"\n",
    "        Returns an image paired with bbox around the heart\n",
    "        \"\"\"\n",
    "        patient = self.patients[idx]\n",
    "        # Get data according to index\n",
    "        data = self.labels[self.labels[\"name\"]==patient]\n",
    "        \n",
    "        # Get entries of given patient\n",
    "        # Extract coordinates\n",
    "        \n",
    "        x_min = data[\"x0\"].item()\n",
    "        y_min = data[\"y0\"].item()\n",
    "        x_max = x_min + data[\"w\"].item()  # get xmax from width\n",
    "        y_max = y_min + data[\"h\"].item()  # get ymax from height\n",
    "        bbox = [x_min, y_min, x_max, y_max]\n",
    "\n",
    "\n",
    "        # Load file and convert to float32\n",
    "        file_path = self.root_path/patient  # Create the path to the file\n",
    "        img = np.load(f\"{file_path}.npy\").astype(np.float32)\n",
    "        \n",
    "        \n",
    "        # Apply imgaug augmentations to image and bounding box\n",
    "        if self.augment:\n",
    "            \n",
    "            bb = BoundingBox(x1=bbox[0], y1=bbox[1], x2=bbox[2], y2=bbox[3])\n",
    "            \n",
    "            ###################IMPORTANT###################\n",
    "            # Fix for https://discuss.pytorch.org/t/dataloader-workers-generate-the-same-random-augmentations/28830/2\n",
    "            # https://github.com/pytorch/pytorch/issues/5059\n",
    "            random_seed = torch.randint(0, 1000000, (1,)).item()\n",
    "            imgaug.seed(random_seed) \n",
    "            #####################################################\n",
    "\n",
    "            img, aug_bbox  = self.augment(image=img, bounding_boxes=bb)\n",
    "            bbox = aug_bbox[0][0], aug_bbox[0][1], aug_bbox[1][0], aug_bbox[1][1]\n",
    "            \n",
    "            \n",
    "        # Normalize the image according to the values computed in Preprocessing\n",
    "        img = (img - 0.494) / 0.252\n",
    "\n",
    "        img = torch.tensor(img).unsqueeze(0)\n",
    "        bbox = torch.tensor(bbox)\n",
    "            \n",
    "        return img, bbox\n"
   ]
  },
  {
   "cell_type": "markdown",
   "id": "regional-incident",
   "metadata": {},
   "source": [
    "## Validate functionality"
   ]
  },
  {
   "cell_type": "code",
   "execution_count": 5,
   "id": "strong-assistant",
   "metadata": {},
   "outputs": [
    {
     "ename": "AttributeError",
     "evalue": "`np.sctypes` was removed in the NumPy 2.0 release. Access dtypes explicitly instead.",
     "output_type": "error",
     "traceback": [
      "\u001b[0;31m---------------------------------------------------------------------------\u001b[0m",
      "\u001b[0;31mAttributeError\u001b[0m                            Traceback (most recent call last)",
      "Cell \u001b[0;32mIn[5], line 1\u001b[0m\n\u001b[0;32m----> 1\u001b[0m \u001b[38;5;28;01mimport\u001b[39;00m\u001b[38;5;250m \u001b[39m\u001b[38;5;21;01mimgaug\u001b[39;00m\u001b[38;5;21;01m.\u001b[39;00m\u001b[38;5;21;01maugmenters\u001b[39;00m\u001b[38;5;250m \u001b[39m\u001b[38;5;28;01mas\u001b[39;00m\u001b[38;5;250m \u001b[39m\u001b[38;5;21;01miaa\u001b[39;00m\n\u001b[1;32m      2\u001b[0m \u001b[38;5;28;01mimport\u001b[39;00m\u001b[38;5;250m \u001b[39m\u001b[38;5;21;01mmatplotlib\u001b[39;00m\u001b[38;5;21;01m.\u001b[39;00m\u001b[38;5;21;01mpyplot\u001b[39;00m\u001b[38;5;250m \u001b[39m\u001b[38;5;28;01mas\u001b[39;00m\u001b[38;5;250m \u001b[39m\u001b[38;5;21;01mplt\u001b[39;00m\n\u001b[1;32m      3\u001b[0m \u001b[38;5;28;01mimport\u001b[39;00m\u001b[38;5;250m \u001b[39m\u001b[38;5;21;01mmatplotlib\u001b[39;00m\u001b[38;5;21;01m.\u001b[39;00m\u001b[38;5;21;01mpatches\u001b[39;00m\u001b[38;5;250m \u001b[39m\u001b[38;5;28;01mas\u001b[39;00m\u001b[38;5;250m \u001b[39m\u001b[38;5;21;01mpatches\u001b[39;00m\n",
      "File \u001b[0;32m/opt/anaconda3/envs/pytorchenvAImed/lib/python3.10/site-packages/imgaug/__init__.py:7\u001b[0m\n\u001b[1;32m      2\u001b[0m \u001b[38;5;28;01mfrom\u001b[39;00m\u001b[38;5;250m \u001b[39m\u001b[38;5;21;01m__future__\u001b[39;00m\u001b[38;5;250m \u001b[39m\u001b[38;5;28;01mimport\u001b[39;00m absolute_import\n\u001b[1;32m      4\u001b[0m \u001b[38;5;66;03m# this contains some deprecated classes/functions pointing to the new\u001b[39;00m\n\u001b[1;32m      5\u001b[0m \u001b[38;5;66;03m# classes/functions, hence always place the other imports below this so that\u001b[39;00m\n\u001b[1;32m      6\u001b[0m \u001b[38;5;66;03m# the deprecated stuff gets overwritten as much as possible\u001b[39;00m\n\u001b[0;32m----> 7\u001b[0m \u001b[38;5;28;01mfrom\u001b[39;00m\u001b[38;5;250m \u001b[39m\u001b[38;5;21;01mimgaug\u001b[39;00m\u001b[38;5;21;01m.\u001b[39;00m\u001b[38;5;21;01mimgaug\u001b[39;00m\u001b[38;5;250m \u001b[39m\u001b[38;5;28;01mimport\u001b[39;00m \u001b[38;5;241m*\u001b[39m  \u001b[38;5;66;03m# pylint: disable=redefined-builtin\u001b[39;00m\n\u001b[1;32m      9\u001b[0m \u001b[38;5;28;01mimport\u001b[39;00m\u001b[38;5;250m \u001b[39m\u001b[38;5;21;01mimgaug\u001b[39;00m\u001b[38;5;21;01m.\u001b[39;00m\u001b[38;5;21;01maugmentables\u001b[39;00m\u001b[38;5;250m \u001b[39m\u001b[38;5;28;01mas\u001b[39;00m\u001b[38;5;250m \u001b[39m\u001b[38;5;21;01maugmentables\u001b[39;00m\n\u001b[1;32m     10\u001b[0m \u001b[38;5;28;01mfrom\u001b[39;00m\u001b[38;5;250m \u001b[39m\u001b[38;5;21;01mimgaug\u001b[39;00m\u001b[38;5;21;01m.\u001b[39;00m\u001b[38;5;21;01maugmentables\u001b[39;00m\u001b[38;5;250m \u001b[39m\u001b[38;5;28;01mimport\u001b[39;00m \u001b[38;5;241m*\u001b[39m\n",
      "File \u001b[0;32m/opt/anaconda3/envs/pytorchenvAImed/lib/python3.10/site-packages/imgaug/imgaug.py:45\u001b[0m\n\u001b[1;32m     36\u001b[0m DEFAULT_FONT_FP \u001b[38;5;241m=\u001b[39m os\u001b[38;5;241m.\u001b[39mpath\u001b[38;5;241m.\u001b[39mjoin(\n\u001b[1;32m     37\u001b[0m     os\u001b[38;5;241m.\u001b[39mpath\u001b[38;5;241m.\u001b[39mdirname(os\u001b[38;5;241m.\u001b[39mpath\u001b[38;5;241m.\u001b[39mabspath(\u001b[38;5;18m__file__\u001b[39m)),\n\u001b[1;32m     38\u001b[0m     \u001b[38;5;124m\"\u001b[39m\u001b[38;5;124mDejaVuSans.ttf\u001b[39m\u001b[38;5;124m\"\u001b[39m\n\u001b[1;32m     39\u001b[0m )\n\u001b[1;32m     42\u001b[0m \u001b[38;5;66;03m# to check if a dtype instance is among these dtypes, use e.g.\u001b[39;00m\n\u001b[1;32m     43\u001b[0m \u001b[38;5;66;03m# `dtype.type in  NP_FLOAT_TYPES` do not just use `dtype in NP_FLOAT_TYPES` as\u001b[39;00m\n\u001b[1;32m     44\u001b[0m \u001b[38;5;66;03m# that would fail\u001b[39;00m\n\u001b[0;32m---> 45\u001b[0m NP_FLOAT_TYPES \u001b[38;5;241m=\u001b[39m \u001b[38;5;28mset\u001b[39m(\u001b[43mnp\u001b[49m\u001b[38;5;241;43m.\u001b[39;49m\u001b[43msctypes\u001b[49m[\u001b[38;5;124m\"\u001b[39m\u001b[38;5;124mfloat\u001b[39m\u001b[38;5;124m\"\u001b[39m])\n\u001b[1;32m     46\u001b[0m NP_INT_TYPES \u001b[38;5;241m=\u001b[39m \u001b[38;5;28mset\u001b[39m(np\u001b[38;5;241m.\u001b[39msctypes[\u001b[38;5;124m\"\u001b[39m\u001b[38;5;124mint\u001b[39m\u001b[38;5;124m\"\u001b[39m])\n\u001b[1;32m     47\u001b[0m NP_UINT_TYPES \u001b[38;5;241m=\u001b[39m \u001b[38;5;28mset\u001b[39m(np\u001b[38;5;241m.\u001b[39msctypes[\u001b[38;5;124m\"\u001b[39m\u001b[38;5;124muint\u001b[39m\u001b[38;5;124m\"\u001b[39m])\n",
      "File \u001b[0;32m/opt/anaconda3/envs/pytorchenvAImed/lib/python3.10/site-packages/numpy/__init__.py:400\u001b[0m, in \u001b[0;36m__getattr__\u001b[0;34m(attr)\u001b[0m\n\u001b[1;32m    397\u001b[0m     \u001b[38;5;28;01mraise\u001b[39;00m \u001b[38;5;167;01mAttributeError\u001b[39;00m(__former_attrs__[attr], name\u001b[38;5;241m=\u001b[39m\u001b[38;5;28;01mNone\u001b[39;00m)\n\u001b[1;32m    399\u001b[0m \u001b[38;5;28;01mif\u001b[39;00m attr \u001b[38;5;129;01min\u001b[39;00m __expired_attributes__:\n\u001b[0;32m--> 400\u001b[0m     \u001b[38;5;28;01mraise\u001b[39;00m \u001b[38;5;167;01mAttributeError\u001b[39;00m(\n\u001b[1;32m    401\u001b[0m         \u001b[38;5;124mf\u001b[39m\u001b[38;5;124m\"\u001b[39m\u001b[38;5;124m`np.\u001b[39m\u001b[38;5;132;01m{\u001b[39;00mattr\u001b[38;5;132;01m}\u001b[39;00m\u001b[38;5;124m` was removed in the NumPy 2.0 release. \u001b[39m\u001b[38;5;124m\"\u001b[39m\n\u001b[1;32m    402\u001b[0m         \u001b[38;5;124mf\u001b[39m\u001b[38;5;124m\"\u001b[39m\u001b[38;5;132;01m{\u001b[39;00m__expired_attributes__[attr]\u001b[38;5;132;01m}\u001b[39;00m\u001b[38;5;124m\"\u001b[39m,\n\u001b[1;32m    403\u001b[0m         name\u001b[38;5;241m=\u001b[39m\u001b[38;5;28;01mNone\u001b[39;00m\n\u001b[1;32m    404\u001b[0m     )\n\u001b[1;32m    406\u001b[0m \u001b[38;5;28;01mif\u001b[39;00m attr \u001b[38;5;241m==\u001b[39m \u001b[38;5;124m\"\u001b[39m\u001b[38;5;124mchararray\u001b[39m\u001b[38;5;124m\"\u001b[39m:\n\u001b[1;32m    407\u001b[0m     warnings\u001b[38;5;241m.\u001b[39mwarn(\n\u001b[1;32m    408\u001b[0m         \u001b[38;5;124m\"\u001b[39m\u001b[38;5;124m`np.chararray` is deprecated and will be removed from \u001b[39m\u001b[38;5;124m\"\u001b[39m\n\u001b[1;32m    409\u001b[0m         \u001b[38;5;124m\"\u001b[39m\u001b[38;5;124mthe main namespace in the future. Use an array with a string \u001b[39m\u001b[38;5;124m\"\u001b[39m\n\u001b[1;32m    410\u001b[0m         \u001b[38;5;124m\"\u001b[39m\u001b[38;5;124mor bytes dtype instead.\u001b[39m\u001b[38;5;124m\"\u001b[39m, \u001b[38;5;167;01mDeprecationWarning\u001b[39;00m, stacklevel\u001b[38;5;241m=\u001b[39m\u001b[38;5;241m2\u001b[39m)\n",
      "\u001b[0;31mAttributeError\u001b[0m: `np.sctypes` was removed in the NumPy 2.0 release. Access dtypes explicitly instead."
     ]
    }
   ],
   "source": [
    "import imgaug.augmenters as iaa\n",
    "import matplotlib.pyplot as plt\n",
    "import matplotlib.patches as patches\n"
   ]
  },
  {
   "cell_type": "code",
   "execution_count": null,
   "id": "naval-exclusive",
   "metadata": {},
   "outputs": [],
   "source": [
    "# First create the augmentation object\n",
    "\n",
    "seq = iaa.Sequential([\n",
    "            iaa.GammaContrast(),\n",
    "            iaa.Affine(\n",
    "                scale=(0.8, 1.2),\n",
    "                rotate=(-10, 10),\n",
    "                translate_px=(-10, 10)\n",
    "            )\n",
    "        ])\n"
   ]
  },
  {
   "cell_type": "code",
   "execution_count": 6,
   "id": "returning-conversion",
   "metadata": {},
   "outputs": [
    {
     "ename": "NameError",
     "evalue": "name 'seq' is not defined",
     "output_type": "error",
     "traceback": [
      "\u001b[0;31m---------------------------------------------------------------------------\u001b[0m",
      "\u001b[0;31mNameError\u001b[0m                                 Traceback (most recent call last)",
      "Cell \u001b[0;32mIn[6], line 4\u001b[0m\n\u001b[1;32m      2\u001b[0m patients_path \u001b[38;5;241m=\u001b[39m \u001b[38;5;124m\"\u001b[39m\u001b[38;5;124mtrain_subjects.npy\u001b[39m\u001b[38;5;124m\"\u001b[39m\n\u001b[1;32m      3\u001b[0m train_root \u001b[38;5;241m=\u001b[39m \u001b[38;5;124m\"\u001b[39m\u001b[38;5;124mProcessed-Heart-Detection/train/\u001b[39m\u001b[38;5;124m\"\u001b[39m\n\u001b[0;32m----> 4\u001b[0m dataset \u001b[38;5;241m=\u001b[39m CardiacDataset(labels_path, patients_path, train_root, \u001b[43mseq\u001b[49m)\n",
      "\u001b[0;31mNameError\u001b[0m: name 'seq' is not defined"
     ]
    }
   ],
   "source": [
    "labels_path = \"./rsna_heart_detection.csv\"\n",
    "patients_path = \"train_subjects.npy\"\n",
    "train_root = \"Processed-Heart-Detection/train/\"\n",
    "dataset = CardiacDataset(labels_path, patients_path, train_root, seq)"
   ]
  },
  {
   "cell_type": "code",
   "execution_count": 7,
   "id": "maritime-contemporary",
   "metadata": {},
   "outputs": [
    {
     "ename": "NameError",
     "evalue": "name 'dataset' is not defined",
     "output_type": "error",
     "traceback": [
      "\u001b[0;31m---------------------------------------------------------------------------\u001b[0m",
      "\u001b[0;31mNameError\u001b[0m                                 Traceback (most recent call last)",
      "Cell \u001b[0;32mIn[7], line 1\u001b[0m\n\u001b[0;32m----> 1\u001b[0m img, bbox \u001b[38;5;241m=\u001b[39m \u001b[43mdataset\u001b[49m[\u001b[38;5;241m0\u001b[39m]\n\u001b[1;32m      3\u001b[0m fig, axis \u001b[38;5;241m=\u001b[39m plt\u001b[38;5;241m.\u001b[39msubplots(\u001b[38;5;241m1\u001b[39m, \u001b[38;5;241m1\u001b[39m)\n\u001b[1;32m      4\u001b[0m axis\u001b[38;5;241m.\u001b[39mimshow(img[\u001b[38;5;241m0\u001b[39m], cmap\u001b[38;5;241m=\u001b[39m\u001b[38;5;124m\"\u001b[39m\u001b[38;5;124mbone\u001b[39m\u001b[38;5;124m\"\u001b[39m)\n",
      "\u001b[0;31mNameError\u001b[0m: name 'dataset' is not defined"
     ]
    }
   ],
   "source": [
    "img, bbox = dataset[0]\n",
    "\n",
    "fig, axis = plt.subplots(1, 1)\n",
    "axis.imshow(img[0], cmap=\"bone\")\n",
    "rect = patches.Rectangle((bbox[0], bbox[1]), bbox[2]-bbox[0], bbox[3]-bbox[1], edgecolor=\"r\", facecolor=\"none\")\n",
    "axis.add_patch(rect)"
   ]
  },
  {
   "cell_type": "code",
   "execution_count": null,
   "id": "automatic-review",
   "metadata": {
    "scrolled": false
   },
   "outputs": [],
   "source": [
    "img, label = dataset[17]\n",
    "\n",
    "fig, axis = plt.subplots(1, 1)\n",
    "axis.imshow(img[0], cmap=\"bone\")\n",
    "spot1 = patches.Rectangle((label[0], label[1]), label[2]-label[0], label[3]-label[1], edgecolor='r', facecolor='none')\n",
    "axis.add_patch(spot1)\n",
    "\n",
    "axis.set_title(\"X-RAY with BBOX around heart\")\n",
    "print(label)"
   ]
  },
  {
   "cell_type": "markdown",
   "id": "compressed-crime",
   "metadata": {},
   "source": [
    "Awesome! Now we can move to training the heart detection network"
   ]
  },
  {
   "cell_type": "code",
   "execution_count": null,
   "id": "nuclear-scheduling",
   "metadata": {},
   "outputs": [],
   "source": []
  }
 ],
 "metadata": {
  "kernelspec": {
   "display_name": "pytorchenvAImed",
   "language": "python",
   "name": "python3"
  },
  "language_info": {
   "codemirror_mode": {
    "name": "ipython",
    "version": 3
   },
   "file_extension": ".py",
   "mimetype": "text/x-python",
   "name": "python",
   "nbconvert_exporter": "python",
   "pygments_lexer": "ipython3",
   "version": "3.10.16"
  }
 },
 "nbformat": 4,
 "nbformat_minor": 5
}
